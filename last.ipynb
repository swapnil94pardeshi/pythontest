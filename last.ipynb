{
 "cells": [
  {
   "cell_type": "markdown",
   "metadata": {},
   "source": [
    "1. Question: Write a function that takes a list of numbers and returns the sum."
   ]
  },
  {
   "cell_type": "code",
   "execution_count": 2,
   "metadata": {},
   "outputs": [
    {
     "data": {
      "text/plain": [
       "60"
      ]
     },
     "execution_count": 2,
     "metadata": {},
     "output_type": "execute_result"
    }
   ],
   "source": [
    "def sum_list(nums):\n",
    "    return sum(nums)\n",
    "\n",
    "sum_list([10,20,30])"
   ]
  },
  {
   "cell_type": "markdown",
   "metadata": {},
   "source": [
    "2. Question: How do you reverse a string in Python?"
   ]
  },
  {
   "cell_type": "code",
   "execution_count": 5,
   "metadata": {},
   "outputs": [
    {
     "data": {
      "text/plain": [
       "'olleh'"
      ]
     },
     "execution_count": 5,
     "metadata": {},
     "output_type": "execute_result"
    }
   ],
   "source": [
    "def stringrev(s):\n",
    "    return s[::-1]\n",
    "\n",
    "stringrev(\"hello\")"
   ]
  },
  {
   "cell_type": "markdown",
   "metadata": {},
   "source": [
    "3. Question: What is the difference between a tuple and a list?\n",
    "\n",
    "Answer: Lists are mutable (can be modified), while tuples are immutable (cannot be modified once created)."
   ]
  },
  {
   "cell_type": "markdown",
   "metadata": {},
   "source": [
    "4. Question: Write a function that checks if a given word is a palindrome."
   ]
  },
  {
   "cell_type": "code",
   "execution_count": 7,
   "metadata": {},
   "outputs": [
    {
     "data": {
      "text/plain": [
       "False"
      ]
     },
     "execution_count": 7,
     "metadata": {},
     "output_type": "execute_result"
    }
   ],
   "source": [
    "def ispalindrome(s):\n",
    "    return s==s[::-1]\n",
    "\n",
    "ispalindrome(\"moma\")\n",
    "\n",
    "# A palindrome is a word, sentence, verse, or even number that reads the same backward or forward"
   ]
  },
  {
   "cell_type": "markdown",
   "metadata": {},
   "source": [
    "5. Question: How can you remove duplicates from a list?"
   ]
  },
  {
   "cell_type": "code",
   "execution_count": 9,
   "metadata": {},
   "outputs": [
    {
     "data": {
      "text/plain": [
       "[1, 2, 3, 4]"
      ]
     },
     "execution_count": 9,
     "metadata": {},
     "output_type": "execute_result"
    }
   ],
   "source": [
    "def removedl(ls):\n",
    "    return list(set(ls))\n",
    "\n",
    "removedl([1,2,3,4,1])\n",
    "# used to convert any of the iterable to sequence of iterable elements with distinct elements,"
   ]
  },
  {
   "cell_type": "markdown",
   "metadata": {},
   "source": [
    "6. Question: How do you handle exceptions in Python?\n",
    "\n",
    "Using try and except blocks."
   ]
  },
  {
   "cell_type": "code",
   "execution_count": 14,
   "metadata": {},
   "outputs": [
    {
     "name": "stdout",
     "output_type": "stream",
     "text": [
      "cannot divide by zero\n"
     ]
    }
   ],
   "source": [
    "try:\n",
    "    x=1/0\n",
    "except ZeroDivisionError:\n",
    "    print(\"cannot divide by zero\")"
   ]
  },
  {
   "cell_type": "markdown",
   "metadata": {},
   "source": [
    "7. Question: What is a lambda function? Provide an example.\n",
    "Answer: A lambda function is a small, anonymous function. It can take any number of arguments but can only have one expression."
   ]
  },
  {
   "cell_type": "code",
   "execution_count": 15,
   "metadata": {},
   "outputs": [
    {
     "name": "stdout",
     "output_type": "stream",
     "text": [
      "12\n"
     ]
    }
   ],
   "source": [
    "multiply = lambda x,y:x*y\n",
    "print(multiply(3,4))"
   ]
  },
  {
   "cell_type": "markdown",
   "metadata": {},
   "source": [
    "8. Question: Write a function that returns the n-th Fibonacci number using recursion."
   ]
  },
  {
   "cell_type": "code",
   "execution_count": 20,
   "metadata": {},
   "outputs": [
    {
     "data": {
      "text/plain": [
       "5"
      ]
     },
     "execution_count": 20,
     "metadata": {},
     "output_type": "execute_result"
    }
   ],
   "source": [
    "def fibonacii(n):\n",
    "    if n <= 1:\n",
    "        return n\n",
    "    else:\n",
    "        return fibonacii(n-1)+fibonacii(n-2)\n",
    "    \n",
    "fibonacii(5)"
   ]
  },
  {
   "cell_type": "markdown",
   "metadata": {},
   "source": [
    "9. Question: What are decorators in Python and how are they used?\n",
    "\n",
    "Answer: Decorators provide a way to modify or extend the behavior of callable objects (like functions and methods) without permanently modifying the callable itself. They are often used in frameworks to add functionality to functions or methods."
   ]
  },
  {
   "cell_type": "code",
   "execution_count": 22,
   "metadata": {},
   "outputs": [
    {
     "name": "stdout",
     "output_type": "stream",
     "text": [
      "welcome\n",
      "hello\n",
      "welcome 1\n"
     ]
    }
   ],
   "source": [
    "def my_decorators(func):\n",
    "    def wrapper():\n",
    "        print(\"welcome\")\n",
    "        func()\n",
    "        print(\"welcome 1\")\n",
    "    return wrapper\n",
    "\n",
    "@my_decorators\n",
    "def say_hello():\n",
    "    print(\"hello\")\n",
    "\n",
    "say_hello()"
   ]
  },
  {
   "cell_type": "markdown",
   "metadata": {},
   "source": [
    "10. Question: How do you deep copy an object in Python?"
   ]
  },
  {
   "cell_type": "code",
   "execution_count": 27,
   "metadata": {},
   "outputs": [
    {
     "name": "stdout",
     "output_type": "stream",
     "text": [
      "[[1, 2, 3], [4, 5, 6]]\n"
     ]
    }
   ],
   "source": [
    "import copy\n",
    "original=[[1,2,3],[4,5,6]]\n",
    "copied=copy.deepcopy(original)\n",
    "\n",
    "print(copied)"
   ]
  },
  {
   "cell_type": "markdown",
   "metadata": {},
   "source": [
    "11. Question: What is list comprehension and provide an example?"
   ]
  },
  {
   "cell_type": "code",
   "execution_count": 28,
   "metadata": {},
   "outputs": [
    {
     "name": "stdout",
     "output_type": "stream",
     "text": [
      "[0, 1, 4, 9, 16, 25, 36, 49, 64, 81]\n"
     ]
    }
   ],
   "source": [
    "num=[x**2 for x in range(10)]\n",
    "\n",
    "print(num)"
   ]
  },
  {
   "cell_type": "markdown",
   "metadata": {},
   "source": [
    "12. Question: What is the difference between == and is?\n",
    "Answer: == checks for value equality, while is checks for identity (whether two references point to the same object in memory)."
   ]
  },
  {
   "cell_type": "markdown",
   "metadata": {},
   "source": [
    "13. Question: Explain the concept of *args and **kwargs in Python.\n"
   ]
  },
  {
   "cell_type": "code",
   "execution_count": 32,
   "metadata": {},
   "outputs": [
    {
     "name": "stdout",
     "output_type": "stream",
     "text": [
      "Welcome to Swapnil You are 28 years old.\n"
     ]
    }
   ],
   "source": [
    "def welcome(x, y):\n",
    "    print(\"Welcome to\", x, \"You are\", y, \"years old.\")\n",
    "\n",
    "welcome(\"Swapnil\", y=28)\n",
    "\n"
   ]
  },
  {
   "cell_type": "code",
   "execution_count": 33,
   "metadata": {},
   "outputs": [
    {
     "name": "stdout",
     "output_type": "stream",
     "text": [
      "1\n",
      "2\n",
      "3\n",
      "a = 4\n",
      "b = 5\n"
     ]
    }
   ],
   "source": [
    "def function_example(*args, **kwargs):\n",
    "    for arg in args:\n",
    "        print(arg)\n",
    "    for key, value in kwargs.items():\n",
    "        print(f\"{key} = {value}\")\n",
    "\n",
    "function_example(1, 2, 3, a=4, b=5)"
   ]
  },
  {
   "cell_type": "markdown",
   "metadata": {},
   "source": [
    "Question: What is a generator and how is it different from a list?\n",
    "\n",
    "Answer: A generator is an iterable that yields items one at a time using a yield statement, whereas a list holds all its items in memory. Generators are more memory-efficient for large data sets."
   ]
  },
  {
   "cell_type": "code",
   "execution_count": 42,
   "metadata": {},
   "outputs": [
    {
     "data": {
      "text/plain": [
       "<generator object count_up_to at 0x0000022C10398040>"
      ]
     },
     "execution_count": 42,
     "metadata": {},
     "output_type": "execute_result"
    }
   ],
   "source": [
    "def count_up_to(n):\n",
    "    count = 1\n",
    "    while count <= n:\n",
    "        yield count\n",
    "        count += 1\n",
    "\n",
    "count_up_to(10)"
   ]
  },
  {
   "cell_type": "markdown",
   "metadata": {},
   "source": [
    "15. Question: How can you achieve multi-threading in Python?\n",
    "\n",
    "Answer: Python has a threading module which can be used to achieve multi-threading."
   ]
  },
  {
   "cell_type": "code",
   "execution_count": 48,
   "metadata": {},
   "outputs": [
    {
     "name": "stdout",
     "output_type": "stream",
     "text": [
      "1\n",
      "2\n",
      "3\n",
      "4\n",
      "5\n",
      "a\n",
      "b\n",
      "c\n",
      "d\n",
      "e\n"
     ]
    }
   ],
   "source": [
    "import threading\n",
    "\n",
    "def print_numbers():\n",
    "    for i in range(1,6):\n",
    "        print(i)\n",
    "\n",
    "def print_letters():\n",
    "    for letter in \"abcde\":\n",
    "        print(letter)\n",
    "\n",
    "t1=threading.Thread(target=print_numbers)\n",
    "t2=threading.Thread(target=print_letters)\n",
    "\n",
    "t1.start()\n",
    "t2.start()\n",
    "\n",
    "t1.join()\n",
    "t2.join()"
   ]
  },
  {
   "cell_type": "markdown",
   "metadata": {},
   "source": [
    "16. Question: What are metaclasses in Python?\n",
    "\n",
    "Answer: Metaclasses are a deep and advanced topic in Python. Essentially, they are \"classes of a class\" that define how a class behaves. The default metaclass is type, but you can create your own metaclass to customize class behavior."
   ]
  },
  {
   "cell_type": "markdown",
   "metadata": {},
   "source": [
    "17. Question: Describe the Global Interpreter Lock (GIL) and its implications.\n",
    "\n",
    "Answer: The GIL is a mutex (or a lock) that allows only one thread to execute Python bytecode at a time in CPython (the standard Python implementation). This means that even on multi-core systems, only one thread is executed at a time. This can be a bottleneck for CPU-bound programs, but it is not generally an issue for I/O-bound programs."
   ]
  },
  {
   "cell_type": "markdown",
   "metadata": {},
   "source": [
    "18. Question: What is the difference between staticmethod, classmethod, and regular instance methods?\n",
    "\n",
    "Answer:\n",
    "\n",
    "staticmethod: Doesn't take any specific first parameter (neither self nor cls), and acts just like a regular function but belongs to a class's namespace.\n",
    "classmethod: Takes the class as its first parameter (usually named cls). It can be called on the class itself, rather than an instance.\n",
    "Instance method: Takes the instance (object) as its first parameter (usually named self) and operates on it."
   ]
  },
  {
   "cell_type": "code",
   "execution_count": 49,
   "metadata": {},
   "outputs": [
    {
     "name": "stdout",
     "output_type": "stream",
     "text": [
      "Hello, Alice!\n",
      "Hello, Alice!\n",
      "Hello, Alice!\n"
     ]
    }
   ],
   "source": [
    "name = 'Alice'\n",
    "# Using % formatting\n",
    "print(\"Hello, %s!\" % name)\n",
    "\n",
    "# Using .format()\n",
    "print(\"Hello, {}!\".format(name))\n",
    "\n",
    "# Using f-strings\n",
    "print(f\"Hello, {name}!\")"
   ]
  },
  {
   "cell_type": "markdown",
   "metadata": {},
   "source": [
    "19. Question: How do you sort a dictionary by its values?"
   ]
  },
  {
   "cell_type": "code",
   "execution_count": 51,
   "metadata": {},
   "outputs": [
    {
     "data": {
      "text/plain": [
       "{'banana': 10, 'apple': 15, 'cherry': 20}"
      ]
     },
     "execution_count": 51,
     "metadata": {},
     "output_type": "execute_result"
    }
   ],
   "source": [
    "d = {'apple': 15, 'banana': 10, 'cherry': 20}\n",
    "sorted_d = dict(sorted(d.items(), key=lambda item: item[1]))\n",
    "sorted_d"
   ]
  },
  {
   "cell_type": "code",
   "execution_count": null,
   "metadata": {},
   "outputs": [],
   "source": [
    "21. Question: How can you implement a singleton pattern in Python?\n",
    "\n",
    "Answer: One way is by using a class attribute to check if an instance already exists. If it does, return that. Otherwise, create a new instance."
   ]
  },
  {
   "cell_type": "code",
   "execution_count": null,
   "metadata": {},
   "outputs": [],
   "source": [
    "class Singleton:\n",
    "    _instance = None\n",
    "    \n",
    "    def __new__(cls):\n",
    "        if cls._instance is None:\n",
    "            cls._instance = super().__new__(cls)\n",
    "        return cls._instance"
   ]
  }
 ],
 "metadata": {
  "kernelspec": {
   "display_name": "Python 3",
   "language": "python",
   "name": "python3"
  },
  "language_info": {
   "codemirror_mode": {
    "name": "ipython",
    "version": 3
   },
   "file_extension": ".py",
   "mimetype": "text/x-python",
   "name": "python",
   "nbconvert_exporter": "python",
   "pygments_lexer": "ipython3",
   "version": "3.11.6"
  }
 },
 "nbformat": 4,
 "nbformat_minor": 2
}
